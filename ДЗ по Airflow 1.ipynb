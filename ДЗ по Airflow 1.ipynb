{
 "cells": [
  {
   "cell_type": "code",
   "execution_count": 216,
   "id": "55c9ade4-38c6-4310-893d-6130d3226416",
   "metadata": {},
   "outputs": [
    {
     "name": "stdout",
     "output_type": "stream",
     "text": [
      "Requirement already satisfied: clickhouse-driver in /opt/anaconda3/lib/python3.12/site-packages (0.2.9)\n",
      "Requirement already satisfied: pytz in /opt/anaconda3/lib/python3.12/site-packages (from clickhouse-driver) (2024.1)\n",
      "Requirement already satisfied: tzlocal in /opt/anaconda3/lib/python3.12/site-packages (from clickhouse-driver) (5.3.1)\n"
     ]
    }
   ],
   "source": [
    "!pip install clickhouse-driver"
   ]
  },
  {
   "cell_type": "code",
   "execution_count": 217,
   "id": "b213acf3-6063-41f5-bac0-bc54cc9a78a2",
   "metadata": {},
   "outputs": [],
   "source": [
    "#Импорт библиотек\n",
    "import requests as request\n",
    "import pandas as pd\n",
    "from datetime import datetime, timedelta\n",
    "import xml.etree.ElementTree as ET\n",
    "from clickhouse_driver import Client \n",
    "import json"
   ]
  },
  {
   "cell_type": "code",
   "execution_count": 218,
   "id": "e3e08ed8-3688-4bcc-b591-c56dbef69d47",
   "metadata": {},
   "outputs": [],
   "source": [
    "#URL и дата для извлечения данных\n",
    "URL = 'https://api.exchangerate.host/timeframe'\n",
    "parameters = {'access_key': '043dc9dad696914726d3064e9d917294',\n",
    "              'source': 'USD', \n",
    "              'start_date': '2023-01-01',\n",
    "              'end_date': '2023-01-01'\n",
    "\n",
    "}"
   ]
  },
  {
   "cell_type": "code",
   "execution_count": 219,
   "id": "6167d0f7-7ccf-481e-86d9-61d7030ea62f",
   "metadata": {},
   "outputs": [],
   "source": [
    "#Подключение к базе \n",
    "# Настройка подключения к базе данных ClickHouse\n",
    "CH_CLIENT = Client(\n",
    "    host='158.160.116.58',  # IP-адрес сервера ClickHouse\n",
    "    user='student',  # Имя пользователя для подключения\n",
    "    password='dfqh89fhq8',  # Пароль для подключения\n",
    "    database='sandbox'  # База данных, к которой подключаемся\n",
    ")"
   ]
  },
  {
   "cell_type": "code",
   "execution_count": 220,
   "id": "cf54dcb3-25fe-4f4a-824d-eac78e3714fc",
   "metadata": {},
   "outputs": [],
   "source": [
    "#Извлекаем данные\n",
    "def extract_data(url, file):\n",
    "    response = request.get(URL, params=parameters)\n",
    "    data = response.json()\n",
    "    with open(file, 'w', encoding='utf-8') as f:\n",
    "        json.dump(data, f)\n",
    "    \n",
    "#Обрабатываем данные и записываем их в csv файл\n",
    "\n",
    "def transform_data(file, csv_file):\n",
    "    with open(file, 'r', encoding='utf-8') as f:\n",
    "        data = json.load(f)\n",
    "    rows = []\n",
    "    source = data['source']\n",
    "    for date, pairs in data['quotes'].items():\n",
    "        for pair, rate in pairs.items():\n",
    "            currency = pair[3:]\n",
    "            rows.append({'date': date, \n",
    "                         'currency_source': source, \n",
    "                         'currency': currency, \n",
    "                         'value': rate})\n",
    "\n",
    "\n",
    "    df = pd.DataFrame(rows, columns=['date', 'currency_source', 'currency', 'value'])\n",
    "    df.to_csv(csv_file, sep=';', encoding='utf-8', index=False)"
   ]
  },
  {
   "cell_type": "code",
   "execution_count": 221,
   "id": "2f274df0-538c-41a1-9713-4149cb54be2d",
   "metadata": {},
   "outputs": [],
   "source": [
    "#Загружаем данные в CH\n",
    "\n",
    "def upload_to_clickhouse(csv_file, table_name, client):\n",
    "    df = pd.read_csv(csv_file, delimiter=';')\n",
    "    client.execute(f\"CREATE TABLE IF NOT EXISTS {table_name} (date String, currency_source String, currency String, value Float64) ENGINE = Log\")\n",
    "    client.execute(f\"INSERT INTO {table_name} VALUES\", df.to_dict('records'))"
   ]
  },
  {
   "cell_type": "code",
   "execution_count": 222,
   "id": "f89550c0-9abf-4907-889c-518c8512682f",
   "metadata": {},
   "outputs": [],
   "source": [
    "#Проверка правильности загрузки данных\n",
    "\n",
    "def check_if_correct(query, client):\n",
    "    return client.execute(query)"
   ]
  },
  {
   "cell_type": "code",
   "execution_count": 223,
   "id": "bca36988-8e66-4896-a20e-6bdda63b9423",
   "metadata": {},
   "outputs": [
    {
     "data": {
      "text/plain": [
       "[('2023-01-01', 'USD', 'GYD', 209.232614),\n",
       " ('2023-01-01', 'USD', 'GYD', 209.232614),\n",
       " ('2023-01-01', 'USD', 'GYD', 209.232614)]"
      ]
     },
     "execution_count": 223,
     "metadata": {},
     "output_type": "execute_result"
    }
   ],
   "source": [
    "#Выполняем функции\n",
    "\n",
    "extract_data(URL, 'currency_file')\n",
    "\n",
    "transform_data(\"currency_file\", \"currency_exchange.csv\")\n",
    "\n",
    "upload_to_clickhouse('currency_exchange.csv','currency_exchange666', CH_CLIENT)\n",
    "\n",
    "check_if_correct(\"SELECT * FROM currency_exchange666 WHERE currency = 'GYD'\", CH_CLIENT)"
   ]
  },
  {
   "cell_type": "code",
   "execution_count": null,
   "id": "caa6adc1-7174-4fc7-9d72-aa98fecd4ba9",
   "metadata": {},
   "outputs": [],
   "source": []
  }
 ],
 "metadata": {
  "kernelspec": {
   "display_name": "Python 3 (ipykernel)",
   "language": "python",
   "name": "python3"
  },
  "language_info": {
   "codemirror_mode": {
    "name": "ipython",
    "version": 3
   },
   "file_extension": ".py",
   "mimetype": "text/x-python",
   "name": "python",
   "nbconvert_exporter": "python",
   "pygments_lexer": "ipython3",
   "version": "3.12.7"
  }
 },
 "nbformat": 4,
 "nbformat_minor": 5
}
